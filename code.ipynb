{
 "cells": [
  {
   "cell_type": "code",
   "execution_count": 1,
   "metadata": {},
   "outputs": [
    {
     "name": "stdout",
     "output_type": "stream",
     "text": [
      "Requirement already satisfied: numpy in c:\\users\\andre\\appdata\\local\\programs\\python\\python312\\lib\\site-packages (1.26.4)\n",
      "Requirement already satisfied: tifffile in c:\\users\\andre\\appdata\\local\\programs\\python\\python312\\lib\\site-packages (2024.5.10)\n",
      "Note: you may need to restart the kernel to use updated packages.\n"
     ]
    },
    {
     "name": "stderr",
     "output_type": "stream",
     "text": [
      "ERROR: Could not find a version that satisfies the requirement PIL (from versions: none)\n",
      "ERROR: No matching distribution found for PIL\n"
     ]
    }
   ],
   "source": [
    "%pip install numpy tifffile PIL"
   ]
  },
  {
   "cell_type": "code",
   "execution_count": 4,
   "metadata": {},
   "outputs": [],
   "source": [
    "import os\n",
    "import numpy as np\n",
    "from tifffile import imread\n",
    "from PIL import Image\n",
    "import glob"
   ]
  },
  {
   "cell_type": "code",
   "execution_count": 5,
   "metadata": {},
   "outputs": [],
   "source": [
    "# Directorios de entrada y salida\n",
    "image_dir = \"RGB Backup/images\"\n",
    "mask_dir = \"RGB Backup/masks\"\n",
    "output_image_dir = \"output/images\"\n",
    "output_mask_dir = \"output/masks\"\n",
    "\n",
    "# Crear directorios de salida si no existen\n",
    "os.makedirs(output_image_dir, exist_ok=True)\n",
    "os.makedirs(output_mask_dir, exist_ok=True)\n",
    "\n",
    "# Obtener rutas de las imágenes y máscaras\n",
    "image_paths = sorted(glob.glob(os.path.join(image_dir, \"*.tif\")))\n",
    "mask_paths = sorted(glob.glob(os.path.join(mask_dir, \"*.tif\")))\n",
    "\n",
    "# Verificar que tenemos el mismo número de imágenes y máscaras\n",
    "assert len(image_paths) == len(mask_paths), \"El número de imágenes y máscaras no coincide.\"\n",
    "\n",
    "def convert_and_save(image_path, mask_path, output_image_dir, output_mask_dir):\n",
    "    # Leer imagen y máscara\n",
    "    image = imread(image_path)\n",
    "    mask = imread(mask_path)\n",
    "\n",
    "    # Normalizar la imagen si es necesario (por ejemplo, si está en float32)\n",
    "    if image.dtype != np.uint8:\n",
    "        image = (255 * (image - np.min(image)) / (np.max(image) - np.min(image))).astype(np.uint8)\n",
    "\n",
    "    # Convertir a PIL Image\n",
    "    image_pil = Image.fromarray(image)\n",
    "    mask_pil = Image.fromarray(mask)\n",
    "\n",
    "    # Guardar en formato PNG\n",
    "    image_name = os.path.basename(image_path).replace('.tif', '.png')\n",
    "    mask_name = os.path.basename(mask_path).replace('.tif', '.png')\n",
    "\n",
    "    image_pil.save(os.path.join(output_image_dir, image_name))\n",
    "    mask_pil.save(os.path.join(output_mask_dir, mask_name))\n",
    "\n",
    "# Convertir y guardar las imágenes y máscaras\n",
    "for image_path, mask_path in zip(image_paths, mask_paths):\n",
    "    convert_and_save(image_path, mask_path, output_image_dir, output_mask_dir)\n",
    "\n",
    "print(\"Conversión completa. Las imágenes y máscaras se han guardado en formato PNG.\")\n"
   ]
  }
 ],
 "metadata": {
  "kernelspec": {
   "display_name": ".venv",
   "language": "python",
   "name": "python3"
  },
  "language_info": {
   "codemirror_mode": {
    "name": "ipython",
    "version": 3
   },
   "file_extension": ".py",
   "mimetype": "text/x-python",
   "name": "python",
   "nbconvert_exporter": "python",
   "pygments_lexer": "ipython3",
   "version": "3.12.2"
  }
 },
 "nbformat": 4,
 "nbformat_minor": 2
}
